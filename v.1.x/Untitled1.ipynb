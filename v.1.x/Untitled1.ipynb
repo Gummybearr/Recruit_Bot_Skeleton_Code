{
 "cells": [
  {
   "cell_type": "code",
   "execution_count": 1,
   "metadata": {},
   "outputs": [],
   "source": [
    "import sqlite3\n",
    "from bs4 import BeautifulSoup\n",
    "import requests\n",
    "import telegram"
   ]
  },
  {
   "cell_type": "code",
   "execution_count": 7,
   "metadata": {},
   "outputs": [],
   "source": [
    "DB_DIR = \"./user.db\"\n",
    "\n",
    "login_data_skku = {'user_id': 'gyunghoe', 'user_pw': 'Gyunghoe94!!'}\n",
    "login_url_skku = \"https://job.skku.edu/loginproc.aspx\"\n",
    "cookies_skku = get_web_cookie(login_url_skku, login_data_skku)\n",
    "\n",
    "parsed_recruitment_skku = []\n",
    "\n",
    "for i in range(1, 3):\n",
    "    recruitment_url_skku = \"http://job.skku.edu/jobs/all/default.aspx?page=\"+str(i)\n",
    "    html_skku = get_web_html(recruitment_url_skku, cookies_skku)\n",
    "    recruitment_json_skku = parse_web_recruitment_skku(html_skku)\n",
    "    parsed_recruitment_skku+=parse_new_recruitment(recruitment_json_skku, DB_DIR)\n",
    "    \n",
    "#여기서부터 아예 다시 하기"
   ]
  },
  {
   "cell_type": "code",
   "execution_count": 5,
   "metadata": {},
   "outputs": [],
   "source": [
    "login_data_jobkorea = {\n",
    "    'IP_ONOFF': 'Y', 'DB_Name': 'GG', 'Co_DB_Name': 'GI', 'M_ID': 'gyunghoe', 'M_PWD': 'dgh8915',\n",
    " }\n",
    "\n",
    "login_url_jobkorea = \"https://www.jobkorea.co.kr/Login/Login.asp\"\n",
    "cookies_jobkorea = get_web_cookie(login_url_jobkorea, login_data_jobkorea)\n",
    "\n",
    "recruitment_url_jobkorea = \"http://www.jobkorea.co.kr/top100/\"\n",
    "html_jobkorea = get_web_html(recruitment_url_jobkorea, cookies_jobkorea)\n",
    "recruitment_json_jobkorea = parse_web_recruitment_jobkorea(html_jobkorea)"
   ]
  },
  {
   "cell_type": "code",
   "execution_count": 8,
   "metadata": {},
   "outputs": [],
   "source": [
    "parsed_recruitment_jobkorea = parse_new_recruitment(recruitment_json_jobkorea, DB_DIR)"
   ]
  },
  {
   "cell_type": "code",
   "execution_count": 9,
   "metadata": {},
   "outputs": [
    {
     "name": "stdout",
     "output_type": "stream",
     "text": [
      "90\n"
     ]
    }
   ],
   "source": [
    "print(len(parsed_recruitment_jobkorea))"
   ]
  },
  {
   "cell_type": "code",
   "execution_count": 12,
   "metadata": {},
   "outputs": [],
   "source": [
    "parsed_recruitment = parsed_recruitment_skku + parsed_recruitment_jobkorea"
   ]
  },
  {
   "cell_type": "code",
   "execution_count": 14,
   "metadata": {},
   "outputs": [],
   "source": [
    "TELEGRAM_BOT_TOKEN = '1098512227:AAFXjpC8rPNmyJlG1NmM-_B80Oed99Yu63s'\n",
    "ADMIN_TELEGRAM_ID = \"1292374436\""
   ]
  },
  {
   "cell_type": "code",
   "execution_count": 15,
   "metadata": {},
   "outputs": [],
   "source": [
    "chat_last_24_hours = get_telegram_chat_of_last_24_hours(TELEGRAM_BOT_TOKEN)"
   ]
  },
  {
   "cell_type": "code",
   "execution_count": 16,
   "metadata": {},
   "outputs": [],
   "source": [
    "parsed_chat_last_24_hours = parse_new_chat(chat_last_24_hours, './user.db')"
   ]
  },
  {
   "cell_type": "code",
   "execution_count": 17,
   "metadata": {},
   "outputs": [
    {
     "name": "stdout",
     "output_type": "stream",
     "text": [
      "[]\n"
     ]
    }
   ],
   "source": [
    "print(parsed_chat_last_24_hours)"
   ]
  },
  {
   "cell_type": "code",
   "execution_count": 18,
   "metadata": {},
   "outputs": [],
   "source": [
    "if(len(parsed_chat_last_24_hours)>0):\n",
    "    send_telegram_message(TELEGRAM_BOT_TOKEN, ADMIN_TELEGRAM_ID, \"=== 메시지가 있습니다 ===\")\n",
    "    for chat in parsed_chat_last_24_hours:\n",
    "        send_telegram_message(TELEGRAM_BOT_TOKEN, ADMIN_TELEGRAM_ID, chat['content'])"
   ]
  },
  {
   "cell_type": "code",
   "execution_count": 19,
   "metadata": {},
   "outputs": [],
   "source": [
    "users = query_all_user_in_db(DB_DIR)"
   ]
  },
  {
   "cell_type": "code",
   "execution_count": 20,
   "metadata": {},
   "outputs": [],
   "source": [
    "for chat in parsed_chat_last_24_hours:\n",
    "    users.append(chat['user_id'])"
   ]
  },
  {
   "cell_type": "code",
   "execution_count": 21,
   "metadata": {},
   "outputs": [
    {
     "name": "stdout",
     "output_type": "stream",
     "text": [
      "35\n"
     ]
    }
   ],
   "source": [
    "print(len(users))"
   ]
  },
  {
   "cell_type": "code",
   "execution_count": 22,
   "metadata": {},
   "outputs": [],
   "source": [
    "parsed_user = parse_user(users, DB_DIR)"
   ]
  },
  {
   "cell_type": "code",
   "execution_count": 23,
   "metadata": {},
   "outputs": [
    {
     "name": "stdout",
     "output_type": "stream",
     "text": [
      "26\n"
     ]
    }
   ],
   "source": [
    "# print(parsed_user)\n",
    "print(len(parsed_user))"
   ]
  },
  {
   "cell_type": "code",
   "execution_count": 29,
   "metadata": {},
   "outputs": [
    {
     "name": "stdout",
     "output_type": "stream",
     "text": [
      "115\n",
      "115\n",
      "115\n",
      "115\n",
      "115\n",
      "115\n",
      "115\n",
      "115\n",
      "115\n",
      "115\n",
      "115\n",
      "115\n",
      "115\n",
      "115\n",
      "115\n",
      "115\n",
      "115\n",
      "115\n",
      "115\n",
      "115\n",
      "115\n",
      "115\n",
      "115\n",
      "115\n",
      "115\n",
      "25\n"
     ]
    }
   ],
   "source": [
    "for i in parsed_user:\n",
    "    i = str(i)\n",
    "    if i==\"808560264\":\n",
    "        continue\n",
    "    try:\n",
    "        for recruitment in parsed_recruitment:\n",
    "            continue\n",
    "#             send_telegram_message(TELEGRAM_BOT_TOKEN, ADMIN_TELEGRAM_ID, make_bot_message_form(recruitment))\n",
    "        if i==\"877064775\":\n",
    "            send_telegram_message(TELEGRAM_BOT_TOKEN, i, \"소영아 오늘도 좋은 하루 보내구 사랑해♡\")\n",
    "    except Exception as e:\n",
    "        send_telegram_message(TELEGRAM_BOT_TOKEN, ADMIN_TELEGRAM_ID, i+str(e))\n",
    "\n",
    "send_telegram_message(TELEGRAM_BOT_TOKEN, ADMIN_TELEGRAM_ID, \"프로그램이 정상적으로 작동을 완료하였습니다\")\n"
   ]
  },
  {
   "cell_type": "code",
   "execution_count": 28,
   "metadata": {},
   "outputs": [],
   "source": [
    "for recruitment in parsed_recruitment:\n",
    "    send_telegram_message(TELEGRAM_BOT_TOKEN, ADMIN_TELEGRAM_ID, make_bot_message_form(recruitment))"
   ]
  },
  {
   "cell_type": "code",
   "execution_count": 2,
   "metadata": {},
   "outputs": [],
   "source": [
    "'''\n",
    "Functions related to database.\n",
    "This file contains functions to search, insert recruitments and user data to database\n",
    "'''\n",
    "import sqlite3\n",
    "\n",
    "def insert_recruitment_to_db(recruitment, db_dir):\n",
    "    '''\n",
    "    insert recruitment data to database\n",
    "    '''\n",
    "    conn = sqlite3.connect(db_dir)\n",
    "    db_cursor = conn.cursor()\n",
    "    insert_query = 'INSERT INTO rec_db (company, name, deadline) VALUES (?, ?, ?)'\n",
    "    db_cursor.execute(insert_query,\n",
    "        (recruitment['company'], recruitment['content'], recruitment['deadline']))\n",
    "    conn.commit()\n",
    "    conn.close()\n",
    "\n",
    "def search_recruitment_duplicate(recruitment, db_dir):\n",
    "    '''\n",
    "    searches recruitment data in database\n",
    "    returns true if there exists same recruitment\n",
    "    '''\n",
    "    conn = sqlite3.connect(db_dir)\n",
    "    db_cursor = conn.cursor()\n",
    "    search_query = \"SELECT * FROM rec_db WHERE company= ? AND name= ?\"\n",
    "    duplicate = db_cursor.execute(search_query,\n",
    "        (str(recruitment['company']), str(recruitment['content']),))\n",
    "    conn.commit()\n",
    "    flag = len(duplicate.fetchall())>0\n",
    "    conn.close()\n",
    "    return flag\n",
    "\n",
    "def parse_new_recruitment(recruitments, db_dir):\n",
    "    '''\n",
    "    it takes recruitments and returns new recruitments that does not exist in database\n",
    "    '''\n",
    "    refined_recruitments = []\n",
    "    for recruitment in recruitments:\n",
    "        if search_recruitment_duplicate(recruitment, db_dir) is True:\n",
    "            continue\n",
    "        insert_recruitment_to_db(recruitment, db_dir)\n",
    "        refined_recruitments.append(recruitment)\n",
    "    return refined_recruitments\n",
    "\n",
    "\n",
    "def insert_chat_to_db(chat, db_dir):\n",
    "    '''\n",
    "    insert chat data to database\n",
    "    '''\n",
    "    conn = sqlite3.connect(db_dir)\n",
    "    db_cursor = conn.cursor()\n",
    "    insert_query = 'INSERT INTO chat_db (pk, userid, msg) VALUES (?, ?, ?)'\n",
    "    db_cursor.execute(insert_query,\n",
    "        (str(chat['chat_id']), str(chat['user_id']), str(chat['content'])))\n",
    "    conn.commit()\n",
    "    conn.close()\n",
    "\n",
    "def search_chat_duplicate(chat, db_dir):\n",
    "    '''\n",
    "    searches chat data in database\n",
    "    returns true if there exists same chat\n",
    "    '''\n",
    "    conn = sqlite3.connect(db_dir)\n",
    "    db_cursor = conn.cursor()\n",
    "    search_query = \"SELECT pk FROM chat_db WHERE pk=(?)\"\n",
    "    duplicate = db_cursor.execute(search_query, (chat['chat_id'],))\n",
    "    conn.commit()\n",
    "    flag = len(duplicate.fetchall())>0\n",
    "    conn.close()\n",
    "    return flag\n",
    "\n",
    "def parse_new_chat(chats, db_dir):\n",
    "    '''\n",
    "    it takes chats and returns new chats that does not exist in database\n",
    "    '''\n",
    "    refined_chats = []\n",
    "    for chat in chats:\n",
    "        if search_chat_duplicate(chat, db_dir) is True:\n",
    "            continue\n",
    "        insert_chat_to_db(chat, db_dir)\n",
    "        refined_chats.append(chat)\n",
    "    return refined_chats\n",
    "\n",
    "def query_all_user_in_db(db_dir):\n",
    "    '''\n",
    "    query all users stored in current database\n",
    "    '''\n",
    "    users = []\n",
    "    conn = sqlite3.connect(db_dir)\n",
    "    db_cursor = conn.cursor()\n",
    "    search_query = \"SELECT * FROM user_db\"\n",
    "    search_data = db_cursor.execute(search_query)\n",
    "    conn.commit()\n",
    "    for i in search_data.fetchall():\n",
    "        i = list(i)\n",
    "        users.append(i[0])\n",
    "    conn.close()\n",
    "    return users\n",
    "\n",
    "def insert_user_to_db(user, db_dir):\n",
    "    '''\n",
    "    insert user data to database\n",
    "    '''\n",
    "    conn = sqlite3.connect(db_dir)\n",
    "    db_cursor = conn.cursor()\n",
    "    insert_query = 'INSERT INTO user_db (userid) VALUES (?)'\n",
    "    db_cursor.execute(insert_query, (user,))\n",
    "    conn.commit()\n",
    "    conn.close()\n",
    "\n",
    "def search_user_duplicate(user, db_dir):\n",
    "    '''\n",
    "    searches user data in database\n",
    "    returns true if there exists same user\n",
    "    '''\n",
    "    conn = sqlite3.connect(db_dir)\n",
    "    db_cursor = conn.cursor()\n",
    "    search_query = \"SELECT userid FROM user_db WHERE userid=(?)\"\n",
    "    duplicate = db_cursor.execute(search_query, (user,))\n",
    "    conn.commit()\n",
    "    flag = len(duplicate.fetchall())>0\n",
    "    conn.close()\n",
    "    return flag\n",
    "\n",
    "def parse_user(users, db_dir):\n",
    "    '''\n",
    "    it takes users and returns new chats that does not exist in database\n",
    "    '''\n",
    "    for user in users:\n",
    "        user = str(user)\n",
    "        if search_user_duplicate(user, db_dir) is True:\n",
    "            continue\n",
    "        insert_user_to_db(user, db_dir)\n",
    "    return list(set(users))\n"
   ]
  },
  {
   "cell_type": "code",
   "execution_count": 3,
   "metadata": {},
   "outputs": [],
   "source": [
    "'''\n",
    "Functions related to web crawling and parsing\n",
    "'''\n",
    "from bs4 import BeautifulSoup\n",
    "import requests\n",
    "import telegram\n",
    "\n",
    "def get_web_cookie(url, data):\n",
    "    '''\n",
    "    returns cookies from the url using data given as parameter\n",
    "    '''\n",
    "    cookies = ''\n",
    "    with requests.Session() as web_session:\n",
    "        web_session.post(url, data=data)\n",
    "        cookies = dict(web_session.cookies)\n",
    "    return cookies\n",
    "\n",
    "def get_web_html(url, cookie):\n",
    "    '''\n",
    "    returns html text from the url using cookie given as parameter\n",
    "    '''\n",
    "    html = ''\n",
    "    with requests.Session() as web_session:\n",
    "        response = web_session.get(url, cookies = cookie)\n",
    "        html = response.text\n",
    "    return html\n",
    "\n",
    "def make_web_recruitment_data_json(company, content, deadline):\n",
    "    '''\n",
    "    returns json that has company, content and deadline as keys\n",
    "    '''\n",
    "    return {\n",
    "        'company': company,\n",
    "        'content': content,\n",
    "        'deadline': deadline\n",
    "    }\n",
    "\n",
    "def parse_web_recruitment_skku(html):\n",
    "    '''\n",
    "    returns recruitment data of SKKU\n",
    "    '''\n",
    "    recruitment_json = []\n",
    "    soup = BeautifulSoup(html, \"html.parser\")\n",
    "    rough_data = soup.findAll('table', {\"class\": \"listTable1\"})[0].findAll('tr')\n",
    "    for i in range(1, len(rough_data)):\n",
    "        company_and_content = rough_data[i].findAll('td', {\"class\": \"tal\"})\n",
    "        company = company_and_content[0].text\n",
    "        content = company_and_content[1].text\n",
    "        deadline = rough_data[i].findAll('td', {\"class\": \"fs_sm\"})[0].text\n",
    "        recruitment_json.append(make_web_recruitment_data_json(company, content, deadline))\n",
    "    return recruitment_json\n",
    "\n",
    "def parse_web_recruitment_jobkorea(html):\n",
    "    '''\n",
    "    returns recruitment data of JOBKOREA\n",
    "    '''\n",
    "    recruitment_json = []\n",
    "    soup = BeautifulSoup(html, \"html.parser\")\n",
    "    rough_data = soup.select('ol', {\"class\": \"rankList\"})[0].select('li')\n",
    "    for i in rough_data:\n",
    "        company = i.findAll('a', {\"class\": \"coLink\"})[0].select('b')[0].text\n",
    "        content = i.findAll('a', {\"class\": \"link\"})[0].text\n",
    "        deadline = i.findAll('span', {\"class\": \"day\"})[0].text\n",
    "        recruitment_json.append(make_web_recruitment_data_json(company, content, deadline))\n",
    "    return recruitment_json\n",
    "\n",
    "def make_web_telegram_chat_data_json(chat_id, user_id, content):\n",
    "    '''\n",
    "    returns json list that has telegram chat\n",
    "    '''\n",
    "    return {\n",
    "        'chat_id': chat_id,\n",
    "        'user_id': user_id,\n",
    "        'content': content\n",
    "    }\n",
    "\n",
    "def get_telegram_chat_of_last_24_hours(telegram_token):\n",
    "    '''\n",
    "    returns message sent to bot via telegram in last 24 hours\n",
    "    '''\n",
    "    bot = telegram.Bot(token=telegram_token)\n",
    "    chat_json = []\n",
    "    for i in bot.getUpdates(timeout=30):\n",
    "        chat_id = str(i['message']['message_id'])\n",
    "        user_id = str(i['message']['chat']['id'])\n",
    "        content = i['message']['text']\n",
    "        chat_json.append(make_web_telegram_chat_data_json(chat_id, user_id, content))\n",
    "    return chat_json\n",
    "\n",
    "def send_telegram_message(telegram_token, user_id, content):\n",
    "    '''\n",
    "    bot sends message given as argument to user\n",
    "    '''\n",
    "    bot = telegram.Bot(token = telegram_token)\n",
    "    bot.send_message(chat_id=str(user_id), text=content)\n"
   ]
  },
  {
   "cell_type": "code",
   "execution_count": 4,
   "metadata": {},
   "outputs": [],
   "source": [
    "'''\n",
    "funtions not related to web and database\n",
    "'''\n",
    "\n",
    "def make_bot_message_form(recruitment):\n",
    "    '''\n",
    "    make message form that bot sends to users\n",
    "    '''\n",
    "    return \"[\"+recruitment['company']+\"] \\n\"+recruitment['content']+\" \\nDue: \"+recruitment['deadline']\n"
   ]
  },
  {
   "cell_type": "code",
   "execution_count": 2,
   "metadata": {},
   "outputs": [],
   "source": [
    "DB_DIR = \"./user.db\""
   ]
  },
  {
   "cell_type": "code",
   "execution_count": 20,
   "metadata": {},
   "outputs": [
    {
     "name": "stdout",
     "output_type": "stream",
     "text": [
      "3953\n"
     ]
    }
   ],
   "source": [
    "conn = sqlite3.connect(DB_DIR)\n",
    "db_cursor = conn.cursor()\n",
    "search_query = \"SELECT * FROM rec_db\"\n",
    "duplicate = db_cursor.execute(search_query)\n",
    "conn.commit()\n",
    "\n",
    "db_list = duplicate.fetchall()\n",
    "# for db in db_list:\n",
    "#     print(db)\n",
    "print(len(db_list))\n",
    "# print(duplicate.fetchall())\n",
    "\n",
    "conn.close()"
   ]
  },
  {
   "cell_type": "code",
   "execution_count": null,
   "metadata": {},
   "outputs": [],
   "source": []
  }
 ],
 "metadata": {
  "kernelspec": {
   "display_name": "Python 3",
   "language": "python",
   "name": "python3"
  },
  "language_info": {
   "codemirror_mode": {
    "name": "ipython",
    "version": 3
   },
   "file_extension": ".py",
   "mimetype": "text/x-python",
   "name": "python",
   "nbconvert_exporter": "python",
   "pygments_lexer": "ipython3",
   "version": "3.9.2"
  }
 },
 "nbformat": 4,
 "nbformat_minor": 4
}
